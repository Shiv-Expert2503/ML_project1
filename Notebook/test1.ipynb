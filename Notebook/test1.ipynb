{
 "cells": [
  {
   "cell_type": "code",
   "execution_count": 1,
   "metadata": {},
   "outputs": [],
   "source": [
    "import numpy as np\n",
    "import seaborn as sns\n",
    "import pandas as pd\n",
    "import warnings\n",
    "warnings.filterwarnings('ignore')\n",
    "from sklearn.model_selection import train_test_split"
   ]
  },
  {
   "cell_type": "code",
   "execution_count": 2,
   "metadata": {},
   "outputs": [
    {
     "data": {
      "text/html": [
       "<div>\n",
       "<style scoped>\n",
       "    .dataframe tbody tr th:only-of-type {\n",
       "        vertical-align: middle;\n",
       "    }\n",
       "\n",
       "    .dataframe tbody tr th {\n",
       "        vertical-align: top;\n",
       "    }\n",
       "\n",
       "    .dataframe thead th {\n",
       "        text-align: right;\n",
       "    }\n",
       "</style>\n",
       "<table border=\"1\" class=\"dataframe\">\n",
       "  <thead>\n",
       "    <tr style=\"text-align: right;\">\n",
       "      <th></th>\n",
       "      <th>Unnamed: 0</th>\n",
       "      <th>Sensor-1</th>\n",
       "      <th>Sensor-2</th>\n",
       "      <th>Sensor-3</th>\n",
       "      <th>Sensor-4</th>\n",
       "      <th>Sensor-5</th>\n",
       "      <th>Sensor-6</th>\n",
       "      <th>Sensor-7</th>\n",
       "      <th>Sensor-8</th>\n",
       "      <th>Sensor-9</th>\n",
       "      <th>...</th>\n",
       "      <th>Sensor-582</th>\n",
       "      <th>Sensor-583</th>\n",
       "      <th>Sensor-584</th>\n",
       "      <th>Sensor-585</th>\n",
       "      <th>Sensor-586</th>\n",
       "      <th>Sensor-587</th>\n",
       "      <th>Sensor-588</th>\n",
       "      <th>Sensor-589</th>\n",
       "      <th>Sensor-590</th>\n",
       "      <th>Good/Bad</th>\n",
       "    </tr>\n",
       "  </thead>\n",
       "  <tbody>\n",
       "    <tr>\n",
       "      <th>0</th>\n",
       "      <td>Wafer-801</td>\n",
       "      <td>2968.33</td>\n",
       "      <td>2476.58</td>\n",
       "      <td>2216.7333</td>\n",
       "      <td>1748.0885</td>\n",
       "      <td>1.1127</td>\n",
       "      <td>100.0</td>\n",
       "      <td>97.5822</td>\n",
       "      <td>0.1242</td>\n",
       "      <td>1.5300</td>\n",
       "      <td>...</td>\n",
       "      <td>NaN</td>\n",
       "      <td>0.5004</td>\n",
       "      <td>0.0120</td>\n",
       "      <td>0.0033</td>\n",
       "      <td>2.4069</td>\n",
       "      <td>0.0545</td>\n",
       "      <td>0.0184</td>\n",
       "      <td>0.0055</td>\n",
       "      <td>33.7876</td>\n",
       "      <td>-1</td>\n",
       "    </tr>\n",
       "    <tr>\n",
       "      <th>1</th>\n",
       "      <td>Wafer-802</td>\n",
       "      <td>2961.04</td>\n",
       "      <td>2506.43</td>\n",
       "      <td>2170.0666</td>\n",
       "      <td>1364.5157</td>\n",
       "      <td>1.5447</td>\n",
       "      <td>100.0</td>\n",
       "      <td>96.7700</td>\n",
       "      <td>0.1230</td>\n",
       "      <td>1.3953</td>\n",
       "      <td>...</td>\n",
       "      <td>NaN</td>\n",
       "      <td>0.4994</td>\n",
       "      <td>0.0115</td>\n",
       "      <td>0.0031</td>\n",
       "      <td>2.3020</td>\n",
       "      <td>0.0545</td>\n",
       "      <td>0.0184</td>\n",
       "      <td>0.0055</td>\n",
       "      <td>33.7876</td>\n",
       "      <td>1</td>\n",
       "    </tr>\n",
       "    <tr>\n",
       "      <th>2</th>\n",
       "      <td>Wafer-803</td>\n",
       "      <td>3072.03</td>\n",
       "      <td>2500.68</td>\n",
       "      <td>2205.7445</td>\n",
       "      <td>1363.1048</td>\n",
       "      <td>1.0518</td>\n",
       "      <td>100.0</td>\n",
       "      <td>101.8644</td>\n",
       "      <td>0.1220</td>\n",
       "      <td>1.3896</td>\n",
       "      <td>...</td>\n",
       "      <td>NaN</td>\n",
       "      <td>0.4987</td>\n",
       "      <td>0.0118</td>\n",
       "      <td>0.0036</td>\n",
       "      <td>2.3719</td>\n",
       "      <td>0.0545</td>\n",
       "      <td>0.0184</td>\n",
       "      <td>0.0055</td>\n",
       "      <td>33.7876</td>\n",
       "      <td>-1</td>\n",
       "    </tr>\n",
       "    <tr>\n",
       "      <th>3</th>\n",
       "      <td>Wafer-804</td>\n",
       "      <td>3021.83</td>\n",
       "      <td>2419.83</td>\n",
       "      <td>2205.7445</td>\n",
       "      <td>1363.1048</td>\n",
       "      <td>1.0518</td>\n",
       "      <td>100.0</td>\n",
       "      <td>101.8644</td>\n",
       "      <td>0.1220</td>\n",
       "      <td>1.4108</td>\n",
       "      <td>...</td>\n",
       "      <td>NaN</td>\n",
       "      <td>0.4934</td>\n",
       "      <td>0.0123</td>\n",
       "      <td>0.0040</td>\n",
       "      <td>2.4923</td>\n",
       "      <td>0.0545</td>\n",
       "      <td>0.0184</td>\n",
       "      <td>0.0055</td>\n",
       "      <td>33.7876</td>\n",
       "      <td>-1</td>\n",
       "    </tr>\n",
       "    <tr>\n",
       "      <th>4</th>\n",
       "      <td>Wafer-805</td>\n",
       "      <td>3006.95</td>\n",
       "      <td>2435.34</td>\n",
       "      <td>2189.8111</td>\n",
       "      <td>1084.6502</td>\n",
       "      <td>1.1993</td>\n",
       "      <td>100.0</td>\n",
       "      <td>104.8856</td>\n",
       "      <td>0.1234</td>\n",
       "      <td>1.5094</td>\n",
       "      <td>...</td>\n",
       "      <td>NaN</td>\n",
       "      <td>0.4987</td>\n",
       "      <td>0.0145</td>\n",
       "      <td>0.0041</td>\n",
       "      <td>2.8991</td>\n",
       "      <td>0.0545</td>\n",
       "      <td>0.0184</td>\n",
       "      <td>0.0055</td>\n",
       "      <td>33.7876</td>\n",
       "      <td>-1</td>\n",
       "    </tr>\n",
       "  </tbody>\n",
       "</table>\n",
       "<p>5 rows × 592 columns</p>\n",
       "</div>"
      ],
      "text/plain": [
       "  Unnamed: 0  Sensor-1  Sensor-2   Sensor-3   Sensor-4  Sensor-5  Sensor-6  \\\n",
       "0  Wafer-801   2968.33   2476.58  2216.7333  1748.0885    1.1127     100.0   \n",
       "1  Wafer-802   2961.04   2506.43  2170.0666  1364.5157    1.5447     100.0   \n",
       "2  Wafer-803   3072.03   2500.68  2205.7445  1363.1048    1.0518     100.0   \n",
       "3  Wafer-804   3021.83   2419.83  2205.7445  1363.1048    1.0518     100.0   \n",
       "4  Wafer-805   3006.95   2435.34  2189.8111  1084.6502    1.1993     100.0   \n",
       "\n",
       "   Sensor-7  Sensor-8  Sensor-9  ...  Sensor-582  Sensor-583  Sensor-584  \\\n",
       "0   97.5822    0.1242    1.5300  ...         NaN      0.5004      0.0120   \n",
       "1   96.7700    0.1230    1.3953  ...         NaN      0.4994      0.0115   \n",
       "2  101.8644    0.1220    1.3896  ...         NaN      0.4987      0.0118   \n",
       "3  101.8644    0.1220    1.4108  ...         NaN      0.4934      0.0123   \n",
       "4  104.8856    0.1234    1.5094  ...         NaN      0.4987      0.0145   \n",
       "\n",
       "   Sensor-585  Sensor-586  Sensor-587  Sensor-588  Sensor-589  Sensor-590  \\\n",
       "0      0.0033      2.4069      0.0545      0.0184      0.0055     33.7876   \n",
       "1      0.0031      2.3020      0.0545      0.0184      0.0055     33.7876   \n",
       "2      0.0036      2.3719      0.0545      0.0184      0.0055     33.7876   \n",
       "3      0.0040      2.4923      0.0545      0.0184      0.0055     33.7876   \n",
       "4      0.0041      2.8991      0.0545      0.0184      0.0055     33.7876   \n",
       "\n",
       "   Good/Bad  \n",
       "0        -1  \n",
       "1         1  \n",
       "2        -1  \n",
       "3        -1  \n",
       "4        -1  \n",
       "\n",
       "[5 rows x 592 columns]"
      ]
     },
     "execution_count": 2,
     "metadata": {},
     "output_type": "execute_result"
    }
   ],
   "source": [
    "df=pd.read_csv('wafer_23012020_041211.csv')\n",
    "df.head()"
   ]
  },
  {
   "cell_type": "code",
   "execution_count": 3,
   "metadata": {},
   "outputs": [
    {
     "data": {
      "text/plain": [
       "(100, 592)"
      ]
     },
     "execution_count": 3,
     "metadata": {},
     "output_type": "execute_result"
    }
   ],
   "source": [
    "df.shape"
   ]
  },
  {
   "cell_type": "code",
   "execution_count": 4,
   "metadata": {},
   "outputs": [
    {
     "data": {
      "text/plain": [
       "2306"
      ]
     },
     "execution_count": 4,
     "metadata": {},
     "output_type": "execute_result"
    }
   ],
   "source": [
    "df.isna().sum().sum()"
   ]
  },
  {
   "cell_type": "code",
   "execution_count": 5,
   "metadata": {},
   "outputs": [],
   "source": [
    "df.drop(['Unnamed: 0','Good/Bad'],axis=1).iloc[:100].to_csv('test.csv',index=False)"
   ]
  },
  {
   "cell_type": "code",
   "execution_count": 6,
   "metadata": {},
   "outputs": [
    {
     "data": {
      "text/plain": [
       "2306"
      ]
     },
     "execution_count": 6,
     "metadata": {},
     "output_type": "execute_result"
    }
   ],
   "source": [
    "df.isna().sum().sum()"
   ]
  },
  {
   "cell_type": "code",
   "execution_count": 7,
   "metadata": {},
   "outputs": [],
   "source": [
    "df,df_test=train_test_split(df,random_state=42,test_size=0.2)"
   ]
  },
  {
   "cell_type": "code",
   "execution_count": 8,
   "metadata": {},
   "outputs": [
    {
     "data": {
      "text/plain": [
       "1822"
      ]
     },
     "execution_count": 8,
     "metadata": {},
     "output_type": "execute_result"
    }
   ],
   "source": [
    "df.isna().sum().sum()"
   ]
  },
  {
   "cell_type": "code",
   "execution_count": 9,
   "metadata": {},
   "outputs": [
    {
     "data": {
      "text/plain": [
       "(80, 592)"
      ]
     },
     "execution_count": 9,
     "metadata": {},
     "output_type": "execute_result"
    }
   ],
   "source": [
    "df.shape"
   ]
  },
  {
   "cell_type": "code",
   "execution_count": 10,
   "metadata": {},
   "outputs": [
    {
     "data": {
      "text/plain": [
       "3.8536379018612523"
      ]
     },
     "execution_count": 10,
     "metadata": {},
     "output_type": "execute_result"
    }
   ],
   "source": [
    "df.isna().sum().sum()/(df.shape[0]*(df.shape[1]-1))*100"
   ]
  },
  {
   "attachments": {},
   "cell_type": "markdown",
   "metadata": {},
   "source": [
    "## Approximatelly 4% are nans"
   ]
  },
  {
   "cell_type": "code",
   "execution_count": 11,
   "metadata": {},
   "outputs": [
    {
     "data": {
      "text/plain": [
       "Good/Bad\n",
       "-1    74\n",
       " 1     6\n",
       "Name: count, dtype: int64"
      ]
     },
     "execution_count": 11,
     "metadata": {},
     "output_type": "execute_result"
    }
   ],
   "source": [
    "df['Good/Bad'].value_counts()"
   ]
  },
  {
   "cell_type": "code",
   "execution_count": 12,
   "metadata": {},
   "outputs": [
    {
     "data": {
      "text/plain": [
       "(80, 592)"
      ]
     },
     "execution_count": 12,
     "metadata": {},
     "output_type": "execute_result"
    }
   ],
   "source": [
    "df.shape"
   ]
  },
  {
   "attachments": {},
   "cell_type": "markdown",
   "metadata": {},
   "source": [
    "## Therefore unbalanced dataset"
   ]
  },
  {
   "attachments": {},
   "cell_type": "markdown",
   "metadata": {},
   "source": [
    "### The dataset with 0 standard deviation needs to be drooped"
   ]
  },
  {
   "cell_type": "code",
   "execution_count": 13,
   "metadata": {},
   "outputs": [],
   "source": [
    "# Deleting the columns which have std==0\n",
    "def get_col_with_0_std(df: pd.DataFrame):\n",
    "    col_to_drop=[]\n",
    "    num_col=[column for column in df.columns if df[column].dtype !='O']\n",
    "    for i in num_col:\n",
    "        if df[i].std()==0:\n",
    "            col_to_drop.append(i)\n",
    "    return col_to_drop\n",
    "\n",
    "#Deleting the columns which has nans > some threshold\n",
    "def get_redundant_cols(df: pd.DataFrame, threshold):\n",
    "    cols_missing_ratio=df.isna().sum().div(df.shape[0])\n",
    "    col_to_drop=list(cols_missing_ratio[cols_missing_ratio>threshold].index)\n",
    "    return col_to_drop"
   ]
  },
  {
   "cell_type": "code",
   "execution_count": 14,
   "metadata": {},
   "outputs": [
    {
     "data": {
      "text/plain": [
       "122"
      ]
     },
     "execution_count": 14,
     "metadata": {},
     "output_type": "execute_result"
    }
   ],
   "source": [
    "col1=get_col_with_0_std(df)\n",
    "len(col1)"
   ]
  },
  {
   "cell_type": "code",
   "execution_count": 15,
   "metadata": {},
   "outputs": [
    {
     "data": {
      "text/plain": [
       "['Sensor-158', 'Sensor-159', 'Sensor-293', 'Sensor-294']"
      ]
     },
     "execution_count": 15,
     "metadata": {},
     "output_type": "execute_result"
    }
   ],
   "source": [
    "col2=get_redundant_cols(df,0.7)\n",
    "col2"
   ]
  },
  {
   "cell_type": "code",
   "execution_count": 16,
   "metadata": {},
   "outputs": [
    {
     "data": {
      "text/plain": [
       "126"
      ]
     },
     "execution_count": 16,
     "metadata": {},
     "output_type": "execute_result"
    }
   ],
   "source": [
    "total_col=col1+col2\n",
    "len(total_col)"
   ]
  },
  {
   "cell_type": "code",
   "execution_count": 17,
   "metadata": {},
   "outputs": [
    {
     "data": {
      "text/plain": [
       "127"
      ]
     },
     "execution_count": 17,
     "metadata": {},
     "output_type": "execute_result"
    }
   ],
   "source": [
    "total_col.append('Unnamed: 0')\n",
    "len(total_col)"
   ]
  },
  {
   "cell_type": "code",
   "execution_count": 18,
   "metadata": {},
   "outputs": [
    {
     "data": {
      "text/plain": [
       "['Sensor-6',\n",
       " 'Sensor-14',\n",
       " 'Sensor-43',\n",
       " 'Sensor-50',\n",
       " 'Sensor-53',\n",
       " 'Sensor-70',\n",
       " 'Sensor-75',\n",
       " 'Sensor-98',\n",
       " 'Sensor-142',\n",
       " 'Sensor-150',\n",
       " 'Sensor-179',\n",
       " 'Sensor-180',\n",
       " 'Sensor-187',\n",
       " 'Sensor-190',\n",
       " 'Sensor-191',\n",
       " 'Sensor-192',\n",
       " 'Sensor-193',\n",
       " 'Sensor-194',\n",
       " 'Sensor-195',\n",
       " 'Sensor-207',\n",
       " 'Sensor-210',\n",
       " 'Sensor-227',\n",
       " 'Sensor-230',\n",
       " 'Sensor-231',\n",
       " 'Sensor-232',\n",
       " 'Sensor-233',\n",
       " 'Sensor-234',\n",
       " 'Sensor-235',\n",
       " 'Sensor-236',\n",
       " 'Sensor-237',\n",
       " 'Sensor-238',\n",
       " 'Sensor-241',\n",
       " 'Sensor-242',\n",
       " 'Sensor-243',\n",
       " 'Sensor-244',\n",
       " 'Sensor-257',\n",
       " 'Sensor-258',\n",
       " 'Sensor-259',\n",
       " 'Sensor-260',\n",
       " 'Sensor-261',\n",
       " 'Sensor-262',\n",
       " 'Sensor-263',\n",
       " 'Sensor-264',\n",
       " 'Sensor-265',\n",
       " 'Sensor-266',\n",
       " 'Sensor-267',\n",
       " 'Sensor-277',\n",
       " 'Sensor-285',\n",
       " 'Sensor-314',\n",
       " 'Sensor-315',\n",
       " 'Sensor-316',\n",
       " 'Sensor-323',\n",
       " 'Sensor-326',\n",
       " 'Sensor-327',\n",
       " 'Sensor-328',\n",
       " 'Sensor-329',\n",
       " 'Sensor-330',\n",
       " 'Sensor-331',\n",
       " 'Sensor-343',\n",
       " 'Sensor-348',\n",
       " 'Sensor-365',\n",
       " 'Sensor-370',\n",
       " 'Sensor-371',\n",
       " 'Sensor-372',\n",
       " 'Sensor-373',\n",
       " 'Sensor-374',\n",
       " 'Sensor-375',\n",
       " 'Sensor-376',\n",
       " 'Sensor-379',\n",
       " 'Sensor-380',\n",
       " 'Sensor-381',\n",
       " 'Sensor-382',\n",
       " 'Sensor-395',\n",
       " 'Sensor-396',\n",
       " 'Sensor-397',\n",
       " 'Sensor-398',\n",
       " 'Sensor-399',\n",
       " 'Sensor-400',\n",
       " 'Sensor-401',\n",
       " 'Sensor-402',\n",
       " 'Sensor-403',\n",
       " 'Sensor-404',\n",
       " 'Sensor-405',\n",
       " 'Sensor-415',\n",
       " 'Sensor-423',\n",
       " 'Sensor-450',\n",
       " 'Sensor-451',\n",
       " 'Sensor-452',\n",
       " 'Sensor-459',\n",
       " 'Sensor-462',\n",
       " 'Sensor-463',\n",
       " 'Sensor-464',\n",
       " 'Sensor-465',\n",
       " 'Sensor-466',\n",
       " 'Sensor-467',\n",
       " 'Sensor-479',\n",
       " 'Sensor-482',\n",
       " 'Sensor-499',\n",
       " 'Sensor-502',\n",
       " 'Sensor-503',\n",
       " 'Sensor-504',\n",
       " 'Sensor-505',\n",
       " 'Sensor-506',\n",
       " 'Sensor-507',\n",
       " 'Sensor-508',\n",
       " 'Sensor-509',\n",
       " 'Sensor-510',\n",
       " 'Sensor-513',\n",
       " 'Sensor-514',\n",
       " 'Sensor-515',\n",
       " 'Sensor-516',\n",
       " 'Sensor-529',\n",
       " 'Sensor-530',\n",
       " 'Sensor-531',\n",
       " 'Sensor-532',\n",
       " 'Sensor-533',\n",
       " 'Sensor-534',\n",
       " 'Sensor-535',\n",
       " 'Sensor-536',\n",
       " 'Sensor-537',\n",
       " 'Sensor-538',\n",
       " 'Sensor-539',\n",
       " 'Sensor-158',\n",
       " 'Sensor-159',\n",
       " 'Sensor-293',\n",
       " 'Sensor-294',\n",
       " 'Unnamed: 0']"
      ]
     },
     "execution_count": 18,
     "metadata": {},
     "output_type": "execute_result"
    }
   ],
   "source": [
    "total_col"
   ]
  },
  {
   "attachments": {},
   "cell_type": "markdown",
   "metadata": {},
   "source": [
    "### Therefore 126 columns to drop in total"
   ]
  },
  {
   "cell_type": "code",
   "execution_count": 19,
   "metadata": {},
   "outputs": [],
   "source": [
    "x,y=df.drop(total_col,axis=1),df[['Good/Bad']]"
   ]
  },
  {
   "cell_type": "code",
   "execution_count": 20,
   "metadata": {},
   "outputs": [
    {
     "data": {
      "text/html": [
       "<div>\n",
       "<style scoped>\n",
       "    .dataframe tbody tr th:only-of-type {\n",
       "        vertical-align: middle;\n",
       "    }\n",
       "\n",
       "    .dataframe tbody tr th {\n",
       "        vertical-align: top;\n",
       "    }\n",
       "\n",
       "    .dataframe thead th {\n",
       "        text-align: right;\n",
       "    }\n",
       "</style>\n",
       "<table border=\"1\" class=\"dataframe\">\n",
       "  <thead>\n",
       "    <tr style=\"text-align: right;\">\n",
       "      <th></th>\n",
       "      <th>Sensor-1</th>\n",
       "      <th>Sensor-2</th>\n",
       "      <th>Sensor-3</th>\n",
       "      <th>Sensor-4</th>\n",
       "      <th>Sensor-5</th>\n",
       "      <th>Sensor-7</th>\n",
       "      <th>Sensor-8</th>\n",
       "      <th>Sensor-9</th>\n",
       "      <th>Sensor-10</th>\n",
       "      <th>Sensor-11</th>\n",
       "      <th>...</th>\n",
       "      <th>Sensor-582</th>\n",
       "      <th>Sensor-583</th>\n",
       "      <th>Sensor-584</th>\n",
       "      <th>Sensor-585</th>\n",
       "      <th>Sensor-586</th>\n",
       "      <th>Sensor-587</th>\n",
       "      <th>Sensor-588</th>\n",
       "      <th>Sensor-589</th>\n",
       "      <th>Sensor-590</th>\n",
       "      <th>Good/Bad</th>\n",
       "    </tr>\n",
       "  </thead>\n",
       "  <tbody>\n",
       "    <tr>\n",
       "      <th>55</th>\n",
       "      <td>NaN</td>\n",
       "      <td>2532.45</td>\n",
       "      <td>2191.1333</td>\n",
       "      <td>2197.6570</td>\n",
       "      <td>1.1569</td>\n",
       "      <td>89.7222</td>\n",
       "      <td>0.1251</td>\n",
       "      <td>1.5762</td>\n",
       "      <td>0.0028</td>\n",
       "      <td>-0.0066</td>\n",
       "      <td>...</td>\n",
       "      <td>NaN</td>\n",
       "      <td>0.4936</td>\n",
       "      <td>0.0113</td>\n",
       "      <td>0.0033</td>\n",
       "      <td>2.2874</td>\n",
       "      <td>0.0133</td>\n",
       "      <td>0.0139</td>\n",
       "      <td>0.0038</td>\n",
       "      <td>104.3034</td>\n",
       "      <td>-1</td>\n",
       "    </tr>\n",
       "    <tr>\n",
       "      <th>88</th>\n",
       "      <td>3221.21</td>\n",
       "      <td>2391.20</td>\n",
       "      <td>2189.9667</td>\n",
       "      <td>1046.6212</td>\n",
       "      <td>0.8662</td>\n",
       "      <td>102.3622</td>\n",
       "      <td>0.1208</td>\n",
       "      <td>1.4756</td>\n",
       "      <td>-0.0025</td>\n",
       "      <td>0.0025</td>\n",
       "      <td>...</td>\n",
       "      <td>NaN</td>\n",
       "      <td>0.4940</td>\n",
       "      <td>0.0123</td>\n",
       "      <td>0.0033</td>\n",
       "      <td>2.4860</td>\n",
       "      <td>0.0280</td>\n",
       "      <td>0.0078</td>\n",
       "      <td>0.0022</td>\n",
       "      <td>27.7601</td>\n",
       "      <td>-1</td>\n",
       "    </tr>\n",
       "    <tr>\n",
       "      <th>26</th>\n",
       "      <td>2951.85</td>\n",
       "      <td>2525.00</td>\n",
       "      <td>2189.5777</td>\n",
       "      <td>1320.3197</td>\n",
       "      <td>1.3459</td>\n",
       "      <td>100.7744</td>\n",
       "      <td>0.1234</td>\n",
       "      <td>1.5590</td>\n",
       "      <td>-0.0032</td>\n",
       "      <td>0.0135</td>\n",
       "      <td>...</td>\n",
       "      <td>53.8577</td>\n",
       "      <td>0.5025</td>\n",
       "      <td>0.0178</td>\n",
       "      <td>0.0045</td>\n",
       "      <td>3.5361</td>\n",
       "      <td>0.0286</td>\n",
       "      <td>0.0154</td>\n",
       "      <td>0.0056</td>\n",
       "      <td>53.8577</td>\n",
       "      <td>-1</td>\n",
       "    </tr>\n",
       "    <tr>\n",
       "      <th>42</th>\n",
       "      <td>2982.07</td>\n",
       "      <td>2447.06</td>\n",
       "      <td>2199.6334</td>\n",
       "      <td>1242.8420</td>\n",
       "      <td>1.4083</td>\n",
       "      <td>99.2178</td>\n",
       "      <td>0.1221</td>\n",
       "      <td>1.4542</td>\n",
       "      <td>0.0142</td>\n",
       "      <td>-0.0064</td>\n",
       "      <td>...</td>\n",
       "      <td>NaN</td>\n",
       "      <td>0.4993</td>\n",
       "      <td>0.0151</td>\n",
       "      <td>0.0038</td>\n",
       "      <td>3.0214</td>\n",
       "      <td>0.0117</td>\n",
       "      <td>0.0262</td>\n",
       "      <td>0.0089</td>\n",
       "      <td>223.1018</td>\n",
       "      <td>-1</td>\n",
       "    </tr>\n",
       "    <tr>\n",
       "      <th>69</th>\n",
       "      <td>3058.08</td>\n",
       "      <td>2524.60</td>\n",
       "      <td>2192.3778</td>\n",
       "      <td>1110.5453</td>\n",
       "      <td>0.8147</td>\n",
       "      <td>99.2922</td>\n",
       "      <td>0.1226</td>\n",
       "      <td>1.4958</td>\n",
       "      <td>0.0004</td>\n",
       "      <td>0.0037</td>\n",
       "      <td>...</td>\n",
       "      <td>24.6547</td>\n",
       "      <td>0.4974</td>\n",
       "      <td>0.0171</td>\n",
       "      <td>0.0040</td>\n",
       "      <td>3.4352</td>\n",
       "      <td>0.0218</td>\n",
       "      <td>0.0054</td>\n",
       "      <td>0.0020</td>\n",
       "      <td>24.6547</td>\n",
       "      <td>-1</td>\n",
       "    </tr>\n",
       "    <tr>\n",
       "      <th>...</th>\n",
       "      <td>...</td>\n",
       "      <td>...</td>\n",
       "      <td>...</td>\n",
       "      <td>...</td>\n",
       "      <td>...</td>\n",
       "      <td>...</td>\n",
       "      <td>...</td>\n",
       "      <td>...</td>\n",
       "      <td>...</td>\n",
       "      <td>...</td>\n",
       "      <td>...</td>\n",
       "      <td>...</td>\n",
       "      <td>...</td>\n",
       "      <td>...</td>\n",
       "      <td>...</td>\n",
       "      <td>...</td>\n",
       "      <td>...</td>\n",
       "      <td>...</td>\n",
       "      <td>...</td>\n",
       "      <td>...</td>\n",
       "      <td>...</td>\n",
       "    </tr>\n",
       "    <tr>\n",
       "      <th>60</th>\n",
       "      <td>3071.05</td>\n",
       "      <td>2642.15</td>\n",
       "      <td>2200.9889</td>\n",
       "      <td>1054.5240</td>\n",
       "      <td>1.3830</td>\n",
       "      <td>100.1800</td>\n",
       "      <td>0.1201</td>\n",
       "      <td>1.4532</td>\n",
       "      <td>0.0049</td>\n",
       "      <td>-0.0048</td>\n",
       "      <td>...</td>\n",
       "      <td>NaN</td>\n",
       "      <td>0.4973</td>\n",
       "      <td>0.0139</td>\n",
       "      <td>0.0039</td>\n",
       "      <td>2.7851</td>\n",
       "      <td>0.0122</td>\n",
       "      <td>0.0131</td>\n",
       "      <td>0.0039</td>\n",
       "      <td>107.5257</td>\n",
       "      <td>-1</td>\n",
       "    </tr>\n",
       "    <tr>\n",
       "      <th>71</th>\n",
       "      <td>3043.18</td>\n",
       "      <td>2545.53</td>\n",
       "      <td>2192.3778</td>\n",
       "      <td>1110.5453</td>\n",
       "      <td>0.8147</td>\n",
       "      <td>99.2922</td>\n",
       "      <td>0.1226</td>\n",
       "      <td>1.3824</td>\n",
       "      <td>-0.0001</td>\n",
       "      <td>-0.0050</td>\n",
       "      <td>...</td>\n",
       "      <td>NaN</td>\n",
       "      <td>0.4989</td>\n",
       "      <td>0.0131</td>\n",
       "      <td>0.0036</td>\n",
       "      <td>2.6253</td>\n",
       "      <td>0.0218</td>\n",
       "      <td>0.0054</td>\n",
       "      <td>0.0020</td>\n",
       "      <td>24.6547</td>\n",
       "      <td>-1</td>\n",
       "    </tr>\n",
       "    <tr>\n",
       "      <th>14</th>\n",
       "      <td>3001.26</td>\n",
       "      <td>2519.92</td>\n",
       "      <td>2224.6778</td>\n",
       "      <td>1308.6479</td>\n",
       "      <td>1.3907</td>\n",
       "      <td>101.1333</td>\n",
       "      <td>0.1208</td>\n",
       "      <td>1.5172</td>\n",
       "      <td>-0.0135</td>\n",
       "      <td>0.0070</td>\n",
       "      <td>...</td>\n",
       "      <td>48.4818</td>\n",
       "      <td>0.4959</td>\n",
       "      <td>0.0142</td>\n",
       "      <td>0.0037</td>\n",
       "      <td>2.8609</td>\n",
       "      <td>0.0278</td>\n",
       "      <td>0.0135</td>\n",
       "      <td>0.0042</td>\n",
       "      <td>48.4818</td>\n",
       "      <td>-1</td>\n",
       "    </tr>\n",
       "    <tr>\n",
       "      <th>92</th>\n",
       "      <td>3007.00</td>\n",
       "      <td>2572.62</td>\n",
       "      <td>2213.2111</td>\n",
       "      <td>2070.7147</td>\n",
       "      <td>1.9705</td>\n",
       "      <td>87.7411</td>\n",
       "      <td>0.1232</td>\n",
       "      <td>1.4446</td>\n",
       "      <td>-0.0050</td>\n",
       "      <td>-0.0007</td>\n",
       "      <td>...</td>\n",
       "      <td>NaN</td>\n",
       "      <td>0.4987</td>\n",
       "      <td>0.0172</td>\n",
       "      <td>0.0041</td>\n",
       "      <td>3.4417</td>\n",
       "      <td>0.0195</td>\n",
       "      <td>0.0149</td>\n",
       "      <td>0.0047</td>\n",
       "      <td>76.0035</td>\n",
       "      <td>-1</td>\n",
       "    </tr>\n",
       "    <tr>\n",
       "      <th>51</th>\n",
       "      <td>3078.77</td>\n",
       "      <td>2533.04</td>\n",
       "      <td>2187.4111</td>\n",
       "      <td>1942.3069</td>\n",
       "      <td>1.1864</td>\n",
       "      <td>88.0911</td>\n",
       "      <td>0.1245</td>\n",
       "      <td>1.4500</td>\n",
       "      <td>-0.0053</td>\n",
       "      <td>0.0005</td>\n",
       "      <td>...</td>\n",
       "      <td>46.7092</td>\n",
       "      <td>0.4968</td>\n",
       "      <td>0.0202</td>\n",
       "      <td>0.0052</td>\n",
       "      <td>4.0733</td>\n",
       "      <td>0.0262</td>\n",
       "      <td>0.0123</td>\n",
       "      <td>0.0033</td>\n",
       "      <td>46.7092</td>\n",
       "      <td>-1</td>\n",
       "    </tr>\n",
       "  </tbody>\n",
       "</table>\n",
       "<p>80 rows × 465 columns</p>\n",
       "</div>"
      ],
      "text/plain": [
       "    Sensor-1  Sensor-2   Sensor-3   Sensor-4  Sensor-5  Sensor-7  Sensor-8  \\\n",
       "55       NaN   2532.45  2191.1333  2197.6570    1.1569   89.7222    0.1251   \n",
       "88   3221.21   2391.20  2189.9667  1046.6212    0.8662  102.3622    0.1208   \n",
       "26   2951.85   2525.00  2189.5777  1320.3197    1.3459  100.7744    0.1234   \n",
       "42   2982.07   2447.06  2199.6334  1242.8420    1.4083   99.2178    0.1221   \n",
       "69   3058.08   2524.60  2192.3778  1110.5453    0.8147   99.2922    0.1226   \n",
       "..       ...       ...        ...        ...       ...       ...       ...   \n",
       "60   3071.05   2642.15  2200.9889  1054.5240    1.3830  100.1800    0.1201   \n",
       "71   3043.18   2545.53  2192.3778  1110.5453    0.8147   99.2922    0.1226   \n",
       "14   3001.26   2519.92  2224.6778  1308.6479    1.3907  101.1333    0.1208   \n",
       "92   3007.00   2572.62  2213.2111  2070.7147    1.9705   87.7411    0.1232   \n",
       "51   3078.77   2533.04  2187.4111  1942.3069    1.1864   88.0911    0.1245   \n",
       "\n",
       "    Sensor-9  Sensor-10  Sensor-11  ...  Sensor-582  Sensor-583  Sensor-584  \\\n",
       "55    1.5762     0.0028    -0.0066  ...         NaN      0.4936      0.0113   \n",
       "88    1.4756    -0.0025     0.0025  ...         NaN      0.4940      0.0123   \n",
       "26    1.5590    -0.0032     0.0135  ...     53.8577      0.5025      0.0178   \n",
       "42    1.4542     0.0142    -0.0064  ...         NaN      0.4993      0.0151   \n",
       "69    1.4958     0.0004     0.0037  ...     24.6547      0.4974      0.0171   \n",
       "..       ...        ...        ...  ...         ...         ...         ...   \n",
       "60    1.4532     0.0049    -0.0048  ...         NaN      0.4973      0.0139   \n",
       "71    1.3824    -0.0001    -0.0050  ...         NaN      0.4989      0.0131   \n",
       "14    1.5172    -0.0135     0.0070  ...     48.4818      0.4959      0.0142   \n",
       "92    1.4446    -0.0050    -0.0007  ...         NaN      0.4987      0.0172   \n",
       "51    1.4500    -0.0053     0.0005  ...     46.7092      0.4968      0.0202   \n",
       "\n",
       "    Sensor-585  Sensor-586  Sensor-587  Sensor-588  Sensor-589  Sensor-590  \\\n",
       "55      0.0033      2.2874      0.0133      0.0139      0.0038    104.3034   \n",
       "88      0.0033      2.4860      0.0280      0.0078      0.0022     27.7601   \n",
       "26      0.0045      3.5361      0.0286      0.0154      0.0056     53.8577   \n",
       "42      0.0038      3.0214      0.0117      0.0262      0.0089    223.1018   \n",
       "69      0.0040      3.4352      0.0218      0.0054      0.0020     24.6547   \n",
       "..         ...         ...         ...         ...         ...         ...   \n",
       "60      0.0039      2.7851      0.0122      0.0131      0.0039    107.5257   \n",
       "71      0.0036      2.6253      0.0218      0.0054      0.0020     24.6547   \n",
       "14      0.0037      2.8609      0.0278      0.0135      0.0042     48.4818   \n",
       "92      0.0041      3.4417      0.0195      0.0149      0.0047     76.0035   \n",
       "51      0.0052      4.0733      0.0262      0.0123      0.0033     46.7092   \n",
       "\n",
       "    Good/Bad  \n",
       "55        -1  \n",
       "88        -1  \n",
       "26        -1  \n",
       "42        -1  \n",
       "69        -1  \n",
       "..       ...  \n",
       "60        -1  \n",
       "71        -1  \n",
       "14        -1  \n",
       "92        -1  \n",
       "51        -1  \n",
       "\n",
       "[80 rows x 465 columns]"
      ]
     },
     "execution_count": 20,
     "metadata": {},
     "output_type": "execute_result"
    }
   ],
   "source": [
    "x"
   ]
  },
  {
   "attachments": {},
   "cell_type": "markdown",
   "metadata": {},
   "source": [
    "### We also need to drop this Unnamed column its useless hence total 127 columns to drop"
   ]
  },
  {
   "cell_type": "code",
   "execution_count": 21,
   "metadata": {},
   "outputs": [
    {
     "data": {
      "text/plain": [
       "(80, 465)"
      ]
     },
     "execution_count": 21,
     "metadata": {},
     "output_type": "execute_result"
    }
   ],
   "source": [
    "x.shape"
   ]
  },
  {
   "cell_type": "code",
   "execution_count": 22,
   "metadata": {},
   "outputs": [
    {
     "data": {
      "text/html": [
       "<div>\n",
       "<style scoped>\n",
       "    .dataframe tbody tr th:only-of-type {\n",
       "        vertical-align: middle;\n",
       "    }\n",
       "\n",
       "    .dataframe tbody tr th {\n",
       "        vertical-align: top;\n",
       "    }\n",
       "\n",
       "    .dataframe thead th {\n",
       "        text-align: right;\n",
       "    }\n",
       "</style>\n",
       "<table border=\"1\" class=\"dataframe\">\n",
       "  <thead>\n",
       "    <tr style=\"text-align: right;\">\n",
       "      <th></th>\n",
       "      <th>Good/Bad</th>\n",
       "    </tr>\n",
       "  </thead>\n",
       "  <tbody>\n",
       "    <tr>\n",
       "      <th>55</th>\n",
       "      <td>-1</td>\n",
       "    </tr>\n",
       "    <tr>\n",
       "      <th>88</th>\n",
       "      <td>-1</td>\n",
       "    </tr>\n",
       "    <tr>\n",
       "      <th>26</th>\n",
       "      <td>-1</td>\n",
       "    </tr>\n",
       "    <tr>\n",
       "      <th>42</th>\n",
       "      <td>-1</td>\n",
       "    </tr>\n",
       "    <tr>\n",
       "      <th>69</th>\n",
       "      <td>-1</td>\n",
       "    </tr>\n",
       "    <tr>\n",
       "      <th>...</th>\n",
       "      <td>...</td>\n",
       "    </tr>\n",
       "    <tr>\n",
       "      <th>60</th>\n",
       "      <td>-1</td>\n",
       "    </tr>\n",
       "    <tr>\n",
       "      <th>71</th>\n",
       "      <td>-1</td>\n",
       "    </tr>\n",
       "    <tr>\n",
       "      <th>14</th>\n",
       "      <td>-1</td>\n",
       "    </tr>\n",
       "    <tr>\n",
       "      <th>92</th>\n",
       "      <td>-1</td>\n",
       "    </tr>\n",
       "    <tr>\n",
       "      <th>51</th>\n",
       "      <td>-1</td>\n",
       "    </tr>\n",
       "  </tbody>\n",
       "</table>\n",
       "<p>80 rows × 1 columns</p>\n",
       "</div>"
      ],
      "text/plain": [
       "    Good/Bad\n",
       "55        -1\n",
       "88        -1\n",
       "26        -1\n",
       "42        -1\n",
       "69        -1\n",
       "..       ...\n",
       "60        -1\n",
       "71        -1\n",
       "14        -1\n",
       "92        -1\n",
       "51        -1\n",
       "\n",
       "[80 rows x 1 columns]"
      ]
     },
     "execution_count": 22,
     "metadata": {},
     "output_type": "execute_result"
    }
   ],
   "source": [
    "y"
   ]
  },
  {
   "cell_type": "code",
   "execution_count": 23,
   "metadata": {},
   "outputs": [
    {
     "data": {
      "text/plain": [
       "(80, 1)"
      ]
     },
     "execution_count": 23,
     "metadata": {},
     "output_type": "execute_result"
    }
   ],
   "source": [
    "y.shape"
   ]
  },
  {
   "attachments": {},
   "cell_type": "markdown",
   "metadata": {},
   "source": [
    "# Data Transformation"
   ]
  },
  {
   "cell_type": "code",
   "execution_count": 24,
   "metadata": {},
   "outputs": [],
   "source": [
    "from sklearn.impute import KNNImputer\n",
    "from sklearn.pipeline import Pipeline\n",
    "from sklearn.preprocessing import RobustScaler   #Using robust scaler as to handle outliers"
   ]
  },
  {
   "cell_type": "code",
   "execution_count": 25,
   "metadata": {},
   "outputs": [
    {
     "data": {
      "text/html": [
       "<style>#sk-container-id-1 {color: black;background-color: white;}#sk-container-id-1 pre{padding: 0;}#sk-container-id-1 div.sk-toggleable {background-color: white;}#sk-container-id-1 label.sk-toggleable__label {cursor: pointer;display: block;width: 100%;margin-bottom: 0;padding: 0.3em;box-sizing: border-box;text-align: center;}#sk-container-id-1 label.sk-toggleable__label-arrow:before {content: \"▸\";float: left;margin-right: 0.25em;color: #696969;}#sk-container-id-1 label.sk-toggleable__label-arrow:hover:before {color: black;}#sk-container-id-1 div.sk-estimator:hover label.sk-toggleable__label-arrow:before {color: black;}#sk-container-id-1 div.sk-toggleable__content {max-height: 0;max-width: 0;overflow: hidden;text-align: left;background-color: #f0f8ff;}#sk-container-id-1 div.sk-toggleable__content pre {margin: 0.2em;color: black;border-radius: 0.25em;background-color: #f0f8ff;}#sk-container-id-1 input.sk-toggleable__control:checked~div.sk-toggleable__content {max-height: 200px;max-width: 100%;overflow: auto;}#sk-container-id-1 input.sk-toggleable__control:checked~label.sk-toggleable__label-arrow:before {content: \"▾\";}#sk-container-id-1 div.sk-estimator input.sk-toggleable__control:checked~label.sk-toggleable__label {background-color: #d4ebff;}#sk-container-id-1 div.sk-label input.sk-toggleable__control:checked~label.sk-toggleable__label {background-color: #d4ebff;}#sk-container-id-1 input.sk-hidden--visually {border: 0;clip: rect(1px 1px 1px 1px);clip: rect(1px, 1px, 1px, 1px);height: 1px;margin: -1px;overflow: hidden;padding: 0;position: absolute;width: 1px;}#sk-container-id-1 div.sk-estimator {font-family: monospace;background-color: #f0f8ff;border: 1px dotted black;border-radius: 0.25em;box-sizing: border-box;margin-bottom: 0.5em;}#sk-container-id-1 div.sk-estimator:hover {background-color: #d4ebff;}#sk-container-id-1 div.sk-parallel-item::after {content: \"\";width: 100%;border-bottom: 1px solid gray;flex-grow: 1;}#sk-container-id-1 div.sk-label:hover label.sk-toggleable__label {background-color: #d4ebff;}#sk-container-id-1 div.sk-serial::before {content: \"\";position: absolute;border-left: 1px solid gray;box-sizing: border-box;top: 0;bottom: 0;left: 50%;z-index: 0;}#sk-container-id-1 div.sk-serial {display: flex;flex-direction: column;align-items: center;background-color: white;padding-right: 0.2em;padding-left: 0.2em;position: relative;}#sk-container-id-1 div.sk-item {position: relative;z-index: 1;}#sk-container-id-1 div.sk-parallel {display: flex;align-items: stretch;justify-content: center;background-color: white;position: relative;}#sk-container-id-1 div.sk-item::before, #sk-container-id-1 div.sk-parallel-item::before {content: \"\";position: absolute;border-left: 1px solid gray;box-sizing: border-box;top: 0;bottom: 0;left: 50%;z-index: -1;}#sk-container-id-1 div.sk-parallel-item {display: flex;flex-direction: column;z-index: 1;position: relative;background-color: white;}#sk-container-id-1 div.sk-parallel-item:first-child::after {align-self: flex-end;width: 50%;}#sk-container-id-1 div.sk-parallel-item:last-child::after {align-self: flex-start;width: 50%;}#sk-container-id-1 div.sk-parallel-item:only-child::after {width: 0;}#sk-container-id-1 div.sk-dashed-wrapped {border: 1px dashed gray;margin: 0 0.4em 0.5em 0.4em;box-sizing: border-box;padding-bottom: 0.4em;background-color: white;}#sk-container-id-1 div.sk-label label {font-family: monospace;font-weight: bold;display: inline-block;line-height: 1.2em;}#sk-container-id-1 div.sk-label-container {text-align: center;}#sk-container-id-1 div.sk-container {/* jupyter's `normalize.less` sets `[hidden] { display: none; }` but bootstrap.min.css set `[hidden] { display: none !important; }` so we also need the `!important` here to be able to override the default hidden behavior on the sphinx rendered scikit-learn.org. See: https://github.com/scikit-learn/scikit-learn/issues/21755 */display: inline-block !important;position: relative;}#sk-container-id-1 div.sk-text-repr-fallback {display: none;}</style><div id=\"sk-container-id-1\" class=\"sk-top-container\"><div class=\"sk-text-repr-fallback\"><pre>Pipeline(steps=[(&#x27;Imputer&#x27;, KNNImputer(n_neighbors=3)),\n",
       "                (&#x27;Scaler&#x27;, RobustScaler())])</pre><b>In a Jupyter environment, please rerun this cell to show the HTML representation or trust the notebook. <br />On GitHub, the HTML representation is unable to render, please try loading this page with nbviewer.org.</b></div><div class=\"sk-container\" hidden><div class=\"sk-item sk-dashed-wrapped\"><div class=\"sk-label-container\"><div class=\"sk-label sk-toggleable\"><input class=\"sk-toggleable__control sk-hidden--visually\" id=\"sk-estimator-id-1\" type=\"checkbox\" ><label for=\"sk-estimator-id-1\" class=\"sk-toggleable__label sk-toggleable__label-arrow\">Pipeline</label><div class=\"sk-toggleable__content\"><pre>Pipeline(steps=[(&#x27;Imputer&#x27;, KNNImputer(n_neighbors=3)),\n",
       "                (&#x27;Scaler&#x27;, RobustScaler())])</pre></div></div></div><div class=\"sk-serial\"><div class=\"sk-item\"><div class=\"sk-estimator sk-toggleable\"><input class=\"sk-toggleable__control sk-hidden--visually\" id=\"sk-estimator-id-2\" type=\"checkbox\" ><label for=\"sk-estimator-id-2\" class=\"sk-toggleable__label sk-toggleable__label-arrow\">KNNImputer</label><div class=\"sk-toggleable__content\"><pre>KNNImputer(n_neighbors=3)</pre></div></div></div><div class=\"sk-item\"><div class=\"sk-estimator sk-toggleable\"><input class=\"sk-toggleable__control sk-hidden--visually\" id=\"sk-estimator-id-3\" type=\"checkbox\" ><label for=\"sk-estimator-id-3\" class=\"sk-toggleable__label sk-toggleable__label-arrow\">RobustScaler</label><div class=\"sk-toggleable__content\"><pre>RobustScaler()</pre></div></div></div></div></div></div></div>"
      ],
      "text/plain": [
       "Pipeline(steps=[('Imputer', KNNImputer(n_neighbors=3)),\n",
       "                ('Scaler', RobustScaler())])"
      ]
     },
     "execution_count": 25,
     "metadata": {},
     "output_type": "execute_result"
    }
   ],
   "source": [
    "imputer=KNNImputer(n_neighbors=3)\n",
    "pre_processing_pipeline=Pipeline(\n",
    "    steps=[('Imputer',imputer),\n",
    "           ('Scaler',RobustScaler())]\n",
    ")\n",
    "pre_processing_pipeline"
   ]
  },
  {
   "cell_type": "code",
   "execution_count": 26,
   "metadata": {},
   "outputs": [
    {
     "data": {
      "text/plain": [
       "(80, 465)"
      ]
     },
     "execution_count": 26,
     "metadata": {},
     "output_type": "execute_result"
    }
   ],
   "source": [
    "x_trans=pre_processing_pipeline.fit_transform(x)\n",
    "x_trans.shape"
   ]
  },
  {
   "cell_type": "code",
   "execution_count": 1,
   "metadata": {},
   "outputs": [
    {
     "ename": "NameError",
     "evalue": "name 'x_trans' is not defined",
     "output_type": "error",
     "traceback": [
      "\u001b[1;31m---------------------------------------------------------------------------\u001b[0m",
      "\u001b[1;31mNameError\u001b[0m                                 Traceback (most recent call last)",
      "Cell \u001b[1;32mIn[1], line 1\u001b[0m\n\u001b[1;32m----> 1\u001b[0m x_trans\n",
      "\u001b[1;31mNameError\u001b[0m: name 'x_trans' is not defined"
     ]
    }
   ],
   "source": [
    "x_trans"
   ]
  },
  {
   "cell_type": "code",
   "execution_count": 1,
   "metadata": {},
   "outputs": [
    {
     "data": {
      "text/plain": [
       "'c:\\\\Users\\\\Dell\\\\Desktop\\\\PROJECT\\\\Wafer_fault\\\\Notebook'"
      ]
     },
     "execution_count": 1,
     "metadata": {},
     "output_type": "execute_result"
    }
   ],
   "source": [
    "import os\n",
    "from datetime import datetime\n",
    "os.getcwd()"
   ]
  },
  {
   "cell_type": "code",
   "execution_count": 5,
   "metadata": {},
   "outputs": [],
   "source": [
    "LOG_FILE = f\"{datetime.now().strftime('%m_%d_%Y_%H_%M_%S')}.log\"\n",
    "\n",
    "logs_path = os.path.join(os.getcwd(), \"logs\", LOG_FILE)\n",
    "\n",
    "os.makedirs(logs_path, exist_ok=True)\n",
    "\n",
    "LOG_FILE_PATH = os.path.join(logs_path,LOG_FILE)"
   ]
  },
  {
   "cell_type": "code",
   "execution_count": 6,
   "metadata": {},
   "outputs": [
    {
     "data": {
      "text/plain": [
       "'c:\\\\Users\\\\Dell\\\\Desktop\\\\PROJECT\\\\Wafer_fault\\\\Notebook\\\\logs\\\\06_29_2023_13_22_23.log\\\\06_29_2023_13_22_23.log'"
      ]
     },
     "execution_count": 6,
     "metadata": {},
     "output_type": "execute_result"
    }
   ],
   "source": [
    "LOG_FILE_PATH"
   ]
  },
  {
   "cell_type": "code",
   "execution_count": 4,
   "metadata": {},
   "outputs": [],
   "source": [
    "import logging\n",
    "logging.basicConfig(filename=LOG_FILE_PATH,format='%(asctime)s %(name)s %(levelname)s %(message)s',level=logging.INFO)"
   ]
  },
  {
   "cell_type": "code",
   "execution_count": 5,
   "metadata": {},
   "outputs": [],
   "source": [
    "logging.error(\"HELP\")"
   ]
  },
  {
   "cell_type": "code",
   "execution_count": 6,
   "metadata": {},
   "outputs": [],
   "source": [
    "logging.shutdown()"
   ]
  },
  {
   "cell_type": "code",
   "execution_count": 7,
   "metadata": {},
   "outputs": [],
   "source": [
    "logging.error(\"HELP\")"
   ]
  },
  {
   "cell_type": "code",
   "execution_count": 8,
   "metadata": {},
   "outputs": [],
   "source": [
    "logging.shutdown()"
   ]
  },
  {
   "cell_type": "code",
   "execution_count": 7,
   "metadata": {},
   "outputs": [],
   "source": [
    "import logging\n",
    "logging.basicConfig(filename=LOG_FILE_PATH,format='%(asctime)s %(name)s %(levelname)s %(message)s',level=logging.INFO)"
   ]
  },
  {
   "cell_type": "code",
   "execution_count": 12,
   "metadata": {},
   "outputs": [],
   "source": [
    "logging.info(\"WOW\")"
   ]
  },
  {
   "cell_type": "code",
   "execution_count": null,
   "metadata": {},
   "outputs": [],
   "source": []
  }
 ],
 "metadata": {
  "kernelspec": {
   "display_name": "Python 3",
   "language": "python",
   "name": "python3"
  },
  "language_info": {
   "codemirror_mode": {
    "name": "ipython",
    "version": 3
   },
   "file_extension": ".py",
   "mimetype": "text/x-python",
   "name": "python",
   "nbconvert_exporter": "python",
   "pygments_lexer": "ipython3",
   "version": "3.10.11"
  },
  "orig_nbformat": 4
 },
 "nbformat": 4,
 "nbformat_minor": 2
}
